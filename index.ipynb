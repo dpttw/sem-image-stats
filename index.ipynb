{
 "cells": [
  {
   "cell_type": "code",
   "execution_count": 1,
   "metadata": {
    "collapsed": false
   },
   "outputs": [],
   "source": [
    "import skimage\n",
    "import skimage.io\n",
    "import matplotlib.pyplot as plt\n",
    "\n",
    "import glob\n",
    "data = [skimage.io.imread(filename) for filename in glob.glob('*.tif')]"
   ]
  },
  {
   "cell_type": "code",
   "execution_count": 2,
   "metadata": {
    "collapsed": false
   },
   "outputs": [
    {
     "name": "stdout",
     "output_type": "stream",
     "text": [
      "['1045_Steel_Nital-etch-06.tif', 'README.md~', '20150911_1045_Nital_etch.tif', '1045_Steel_Nital-etch-04.tif', '1045_Steel_Nital-etch-03.tif', 'README.md', 'LICENSE', '1045_Steel_Nital-etch-01.tif', 'lfs', 'test.txt', '20150911_1045_Nital_etch2.tif', 'test.png.1', '1045_Steel_Nital-etch-07.tif', 'test.png', '1045_Steel_Nital-etch-02.tif', 'test-european.jpg', '1045_Steel_Nital-etch-05.tif', 'index.ipynb', 'download_mdcs_images.py']\n"
     ]
    }
   ],
   "source": [
    "print(glob.glob('*'))"
   ]
  },
  {
   "cell_type": "code",
   "execution_count": 3,
   "metadata": {
    "collapsed": false
   },
   "outputs": [
    {
     "data": {
      "text/plain": [
       "<matplotlib.image.AxesImage at 0x7f2073781518>"
      ]
     },
     "execution_count": 3,
     "metadata": {},
     "output_type": "execute_result"
    },
    {
     "data": {
      "image/png": "[encoded data removed]",
      "text/plain": [
       "<matplotlib.figure.Figure at 0x7f20a84c4550>"
      ]
     },
     "metadata": {},
     "output_type": "display_data"
    }
   ],
   "source": [
    "%matplotlib inline\n",
    "plt.imshow(data[0][960:])"
   ]
  },
  {
   "cell_type": "code",
   "execution_count": 4,
   "metadata": {
    "collapsed": false
   },
   "outputs": [
    {
     "name": "stderr",
     "output_type": "stream",
     "text": [
      "/home/wd15/anaconda/envs/shengyen/lib/python3.5/site-packages/skimage/util/dtype.py:110: UserWarning: Possible precision loss when converting from uint16 to uint8\n",
      "  \"%s to %s\" % (dtypeobj_in, dtypeobj))\n"
     ]
    }
   ],
   "source": [
    "skimage.io.imsave('test.png', data[0][960:])"
   ]
  },
  {
   "cell_type": "code",
   "execution_count": 17,
   "metadata": {
    "collapsed": false
   },
   "outputs": [
    {
     "name": "stdout",
     "output_type": "stream",
     "text": [
      "[[32896 32896 32896]\n",
      " [30069 30069 30069]\n",
      " [27242 27242 27242]\n",
      " [23130 23130 23130]\n",
      " [22616 22616 22616]\n",
      " [23644 23644 23644]\n",
      " [24158 24158 24158]\n",
      " [27242 27242 27242]\n",
      " [30326 30326 30326]\n",
      " [33153 33153 33153]\n",
      " [35723 35723 35723]\n",
      " [34952 34952 34952]\n",
      " [42148 42148 42148]\n",
      " [28527 28527 28527]\n",
      " [19275 19275 19275]\n",
      " [27242 27242 27242]\n",
      " [25700 25700 25700]\n",
      " [24158 24158 24158]\n",
      " [23644 23644 23644]\n",
      " [20560 20560 20560]\n",
      " [19275 19275 19275]\n",
      " [20560 20560 20560]\n",
      " [21845 21845 21845]\n",
      " [25443 25443 25443]\n",
      " [26985 26985 26985]\n",
      " [26214 26214 26214]\n",
      " [24929 24929 24929]\n",
      " [22102 22102 22102]\n",
      " [19789 19789 19789]\n",
      " [18247 18247 18247]\n",
      " [23130 23130 23130]\n",
      " [40863 40863 40863]\n",
      " [38550 38550 38550]\n",
      " [31868 31868 31868]\n",
      " [34438 34438 34438]\n",
      " [34438 34438 34438]\n",
      " [29041 29041 29041]\n",
      " [24415 24415 24415]\n",
      " [22359 22359 22359]\n",
      " [20817 20817 20817]\n",
      " [21331 21331 21331]\n",
      " [19789 19789 19789]\n",
      " [16191 16191 16191]\n",
      " [15677 15677 15677]\n",
      " [17990 17990 17990]\n",
      " [18504 18504 18504]\n",
      " [17733 17733 17733]\n",
      " [18504 18504 18504]\n",
      " [17476 17476 17476]\n",
      " [18504 18504 18504]\n",
      " [17476 17476 17476]\n",
      " [16962 16962 16962]\n",
      " [16191 16191 16191]\n",
      " [17990 17990 17990]\n",
      " [22102 22102 22102]\n",
      " [21331 21331 21331]\n",
      " [18761 18761 18761]\n",
      " [17990 17990 17990]\n",
      " [15934 15934 15934]\n",
      " [14649 14649 14649]\n",
      " [15163 15163 15163]\n",
      " [14649 14649 14649]\n",
      " [14135 14135 14135]\n",
      " [20560 20560 20560]\n",
      " [19789 19789 19789]\n",
      " [23644 23644 23644]\n",
      " [29298 29298 29298]\n",
      " [25186 25186 25186]\n",
      " [22616 22616 22616]\n",
      " [17990 17990 17990]\n",
      " [12850 12850 12850]\n",
      " [12850 12850 12850]\n",
      " [13621 13621 13621]\n",
      " [13107 13107 13107]\n",
      " [15163 15163 15163]\n",
      " [15677 15677 15677]\n",
      " [14906 14906 14906]\n",
      " [15934 15934 15934]\n",
      " [16448 16448 16448]\n",
      " [16448 16448 16448]\n",
      " [17476 17476 17476]\n",
      " [17476 17476 17476]\n",
      " [17733 17733 17733]\n",
      " [17990 17990 17990]\n",
      " [18247 18247 18247]\n",
      " [17990 17990 17990]\n",
      " [16962 16962 16962]\n",
      " [17476 17476 17476]\n",
      " [17990 17990 17990]\n",
      " [17733 17733 17733]\n",
      " [17219 17219 17219]\n",
      " [16705 16705 16705]\n",
      " [18247 18247 18247]\n",
      " [17219 17219 17219]\n",
      " [15677 15677 15677]\n",
      " [13878 13878 13878]\n",
      " [12850 12850 12850]\n",
      " [22616 22616 22616]\n",
      " [28270 28270 28270]\n",
      " [21845 21845 21845]]\n"
     ]
    }
   ],
   "source": [
    "print(data[0][500:600, 501])"
   ]
  },
  {
   "cell_type": "raw",
   "metadata": {},
   "source": [
    " > try:\n",
    " >     import Image\n",
    " > except ImportError:\n",
    " >     from PIL import Image\n",
    " > import pytesseract\n",
    " > print(pytesseract.image_to_string(Image.open('test.png')))\n",
    " > print(pytesseract.image_to_string(Image.open('test-european.jpg'), lang='fra'))"
   ]
  },
  {
   "cell_type": "code",
   "execution_count": 30,
   "metadata": {
    "collapsed": false
   },
   "outputs": [],
   "source": [
    "from PIL import Image\n",
    "from skimage.util import img_as_ubyte\n",
    "?img_as_ubyte"
   ]
  },
  {
   "cell_type": "code",
   "execution_count": 9,
   "metadata": {
    "collapsed": false
   },
   "outputs": [
    {
     "data": {
      "text/plain": [
       "<module 'PIL.Image' from '/home/wd15/anaconda/envs/shengyen/lib/python3.5/site-packages/PIL/Image.py'>"
      ]
     },
     "execution_count": 9,
     "metadata": {},
     "output_type": "execute_result"
    }
   ],
   "source": [
    "import pytesseract\n",
    "#Image.open(\"test.png\")\n",
    "2**16\n",
    "import PIL\n",
    "PIL.Image"
   ]
  },
  {
   "cell_type": "code",
   "execution_count": 11,
   "metadata": {
    "collapsed": false
   },
   "outputs": [
    {
     "name": "stdout",
     "output_type": "stream",
     "text": [
      "Ea)!\n",
      "\n",
      "6/1772015\n",
      "WD 10.0mm 13:16:51\n"
     ]
    }
   ],
   "source": [
    "import PIL.Image\n",
    "image = PIL.Image.open('1045_Steel_Nital-etch-01.tif') #skimage.io.imread(img_as_float(data[0])[...,0])\n",
    "#image.split()\n",
    "print(pytesseract.image_to_string(image))"
   ]
  },
  {
   "cell_type": "code",
   "execution_count": 23,
   "metadata": {
    "collapsed": true
   },
   "outputs": [],
   "source": [
    "?pytesseract.image_to_string"
   ]
  },
  {
   "cell_type": "code",
   "execution_count": null,
   "metadata": {
    "collapsed": true
   },
   "outputs": [],
   "source": []
  }
 ],
 "metadata": {
  "anaconda-cloud": {},
  "kernelspec": {
   "display_name": "Python [conda env:shengyen]",
   "language": "python",
   "name": "conda-env-shengyen-py"
  },
  "language_info": {
   "codemirror_mode": {
    "name": "ipython",
    "version": 3
   },
   "file_extension": ".py",
   "mimetype": "text/x-python",
   "name": "python",
   "nbconvert_exporter": "python",
   "pygments_lexer": "ipython3",
   "version": "3.5.2"
  }
 },
 "nbformat": 4,
 "nbformat_minor": 1
}
