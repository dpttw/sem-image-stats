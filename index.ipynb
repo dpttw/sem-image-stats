{
 "cells": [
  {
   "cell_type": "code",
   "execution_count": 22,
   "metadata": {
    "collapsed": false
   },
   "outputs": [
    {
     "name": "stdout",
     "output_type": "stream",
     "text": [
      "                             filename  scale  scale_pixels\n",
      "0   data/1045_Steel_Nital-etch-01.tif   10.0           107\n",
      "1   data/1045_Steel_Nital-etch-02.tif   10.0           161\n",
      "2   data/1045_Steel_Nital-etch-03.tif   10.0           267\n",
      "3   data/1045_Steel_Nital-etch-04.tif    1.0            80\n",
      "4   data/1045_Steel_Nital-etch-05.tif    1.0            54\n",
      "5   data/1045_Steel_Nital-etch-06.tif   10.0           161\n",
      "6   data/1045_Steel_Nital-etch-07.tif   10.0           267\n",
      "7   data/20150911_1045_Nital_etch.tif   10.0            54\n",
      "8  data/20150911_1045_Nital_etch2.tif   10.0            54\n"
     ]
    }
   ],
   "source": [
    "import glob\n",
    "import pytesseract\n",
    "import PIL.Image\n",
    "from toolz.curried import map, pipe, compose, get\n",
    "import pandas\n",
    "from skimage.measure import label, regionprops\n",
    "import numpy as np\n",
    "\n",
    "crop_cutoff = 960\n",
    "\n",
    "ff = lambda *args: compose(*args[::-1])\n",
    "\n",
    "crop = ff(\n",
    "    PIL.Image.open,\n",
    "    lambda image: (image.crop(box=(0, 0, image.size[0], crop_cutoff)),\n",
    "                   image.crop(box=(0, crop_cutoff, image.size[0], image.size[1]))),\n",
    "\n",
    ")\n",
    "\n",
    "repair_string = lambda string: float('10' if string == 'mum' else string.replace('pm', ''))\n",
    "\n",
    "\n",
    "string_data = ff(\n",
    "    lambda image: pytesseract.image_to_string(image),\n",
    "    lambda string: string.split(),\n",
    "#    lambda data: dict(string=data)\n",
    "    get([1, 3, -1]),\n",
    "    lambda data: dict(scale=repair_string(data[0]),\n",
    "                      date=data[1].replace('-', ''),\n",
    "                      time=data[2])\n",
    ")\n",
    "\n",
    "scale_pixels = ff(\n",
    "    np.array,\n",
    "    lambda data: data if len(data.shape) == 2 else data[...,0],\n",
    "    lambda data: label(data, background=0),\n",
    "    regionprops,\n",
    "    get(1),\n",
    "    lambda data: data.bbox[3] - data.bbox[1]\n",
    ")\n",
    "\n",
    "make_df = ff(\n",
    "    glob.glob,\n",
    "    sorted,\n",
    "    map(lambda filename: (filename, crop(filename)[1])),\n",
    "    map(lambda data: dict(filename=data[0],\n",
    "                          scale_pixels=scale_pixels(data[1]),\n",
    "                          **string_data(data[1]))),\n",
    "    list,\n",
    "    pandas.DataFrame\n",
    ")\n",
    "\n",
    "data = make_df('data/*.tif')\n",
    "print(data[['filename', 'scale', 'scale_pixels']])"
   ]
  },
  {
   "cell_type": "code",
   "execution_count": 23,
   "metadata": {
    "collapsed": false
   },
   "outputs": [
    {
     "name": "stdout",
     "output_type": "stream",
     "text": [
      "data/1045_Steel_Nital-etch-03.tif\n"
     ]
    },
    {
     "data": {
      "image/png": "[encoded data removed]",
      "text/plain": [
       "<PIL.Image._ImageCrop image mode=P size=1280x64 at 0x7F40555ED550>"
      ]
     },
     "execution_count": 23,
     "metadata": {},
     "output_type": "execute_result"
    }
   ],
   "source": [
    "#PYTEST_VALIDATE_IGNORE_OUTPUT\n",
    "print(data.ix[2]['filename'])\n",
    "crop(data.ix[2]['filename'])[1]"
   ]
  },
  {
   "cell_type": "code",
   "execution_count": 3,
   "metadata": {
    "collapsed": true
   },
   "outputs": [],
   "source": [
    "image = PIL.Image.open('data/1045_Steel_Nital-etch-01.tif')"
   ]
  },
  {
   "cell_type": "code",
   "execution_count": 4,
   "metadata": {
    "collapsed": false
   },
   "outputs": [
    {
     "data": {
      "text/plain": [
       "(1280, 1024)"
      ]
     },
     "execution_count": 4,
     "metadata": {},
     "output_type": "execute_result"
    }
   ],
   "source": [
    "image.size"
   ]
  },
  {
   "cell_type": "code",
   "execution_count": 5,
   "metadata": {
    "collapsed": false
   },
   "outputs": [
    {
     "data": {
      "text/plain": [
       "0.9375"
      ]
     },
     "execution_count": 5,
     "metadata": {},
     "output_type": "execute_result"
    }
   ],
   "source": [
    "960 / 1024"
   ]
  },
  {
   "cell_type": "code",
   "execution_count": 6,
   "metadata": {
    "collapsed": false
   },
   "outputs": [
    {
     "data": {
      "text/plain": [
       "'data/1045_Steel_Nital-etch-01.tif'"
      ]
     },
     "execution_count": 6,
     "metadata": {},
     "output_type": "execute_result"
    }
   ],
   "source": [
    "data['filename'][0]"
   ]
  },
  {
   "cell_type": "code",
   "execution_count": null,
   "metadata": {
    "collapsed": true
   },
   "outputs": [],
   "source": []
  },
  {
   "cell_type": "code",
   "execution_count": null,
   "metadata": {
    "collapsed": true
   },
   "outputs": [],
   "source": []
  }
 ],
 "metadata": {
  "anaconda-cloud": {},
  "kernelspec": {
   "display_name": "Python [conda root]",
   "language": "python",
   "name": "conda-root-py"
  },
  "language_info": {
   "codemirror_mode": {
    "name": "ipython",
    "version": 3
   },
   "file_extension": ".py",
   "mimetype": "text/x-python",
   "name": "python",
   "nbconvert_exporter": "python",
   "pygments_lexer": "ipython3",
   "version": "3.5.2"
  }
 },
 "nbformat": 4,
 "nbformat_minor": 1
}
