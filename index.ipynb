{
 "cells": [
  {
   "cell_type": "code",
   "execution_count": 39,
   "metadata": {
    "collapsed": false
   },
   "outputs": [
    {
     "name": "stdout",
     "output_type": "stream",
     "text": [
      "        date                            filename  scale  scale_pixels  \\\n",
      "0  6/17/2015   data/1045_Steel_Nital-etch-01.tif   10.0           107   \n",
      "1  6/17/2015   data/1045_Steel_Nital-etch-02.tif   10.0           161   \n",
      "2  6/17/2015   data/1045_Steel_Nital-etch-03.tif   10.0           267   \n",
      "3  6/17/2015   data/1045_Steel_Nital-etch-04.tif    1.0            80   \n",
      "4  6/17/2015   data/1045_Steel_Nital-etch-05.tif    1.0            54   \n",
      "5  6/17/2015   data/1045_Steel_Nital-etch-06.tif   10.0           161   \n",
      "6  6/17/2015   data/1045_Steel_Nital-etch-07.tif   10.0           267   \n",
      "7  9/11/2015   data/20150911_1045_Nital_etch.tif   10.0            54   \n",
      "8  9/11/2015  data/20150911_1045_Nital_etch2.tif   10.0            54   \n",
      "\n",
      "       time  \n",
      "0  13:16:51  \n",
      "1  13:20:17  \n",
      "2  13:42:26  \n",
      "3  13:52:11  \n",
      "4  14:04:46  \n",
      "5  14:06:17  \n",
      "6  14:12:37  \n",
      "7  10:08:55  \n",
      "8  11:10:14  \n"
     ]
    }
   ],
   "source": [
    "import glob\n",
    "import pytesseract\n",
    "import PIL.Image\n",
    "from toolz.curried import map, pipe, compose, get\n",
    "import pandas\n",
    "from skimage.measure import label, regionprops\n",
    "\n",
    "ff = lambda *args: compose(*args[::-1])\n",
    "\n",
    "crop_data = ff(\n",
    "    PIL.Image.open,\n",
    "    lambda image: image.crop(box=(0, 960, 1300, 1100))\n",
    ")\n",
    "\n",
    "string_data = ff(\n",
    "    lambda image: pytesseract.image_to_string(image),\n",
    "    lambda string: string.split(),\n",
    "    get([1, 3, -1]),\n",
    "    lambda data: dict(scale=float(data[0].replace('pm', '')),\n",
    "                      date=data[1],\n",
    "                      time=data[2])\n",
    ")\n",
    "\n",
    "scale_pixels = ff(\n",
    "    np.array,\n",
    "    lambda data: data if len(data.shape) ==2 else data[...,0],\n",
    "    lambda data: label(data, background=0),\n",
    "    regionprops,\n",
    "    get(1),\n",
    "    lambda data: data.bbox[3] - data.bbox[1]\n",
    ")\n",
    "\n",
    "make_df = ff(\n",
    "    glob.glob,\n",
    "    sorted,\n",
    "    map(lambda filename: (filename, crop_data(filename))),\n",
    "    map(lambda data: dict(filename=data[0],\n",
    "                          scale_pixels=scale_pixels(data[1]),\n",
    "                          **string_data(data[1]))),\n",
    "    list,\n",
    "    pandas.DataFrame\n",
    ")\n",
    "\n",
    "data = make_df('data/*.tif')\n",
    "print(data)"
   ]
  },
  {
   "cell_type": "code",
   "execution_count": null,
   "metadata": {
    "collapsed": true
   },
   "outputs": [],
   "source": []
  }
 ],
 "metadata": {
  "anaconda-cloud": {},
  "kernelspec": {
   "display_name": "Python [conda env:shengyen]",
   "language": "python",
   "name": "conda-env-shengyen-py"
  },
  "language_info": {
   "codemirror_mode": {
    "name": "ipython",
    "version": 3
   },
   "file_extension": ".py",
   "mimetype": "text/x-python",
   "name": "python",
   "nbconvert_exporter": "python",
   "pygments_lexer": "ipython3",
   "version": "3.5.2"
  }
 },
 "nbformat": 4,
 "nbformat_minor": 1
}
